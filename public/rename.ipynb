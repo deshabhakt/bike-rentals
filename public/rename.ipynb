{
 "cells": [
  {
   "cell_type": "code",
   "execution_count": 13,
   "metadata": {},
   "outputs": [],
   "source": [
    "import os\n",
    "import shutil"
   ]
  },
  {
   "cell_type": "code",
   "execution_count": 11,
   "metadata": {},
   "outputs": [],
   "source": [
    "counter = 1012\n",
    "for i,file in enumerate(os.listdir('./new-images/')):\n",
    "    os.rename('./new-images/'+file,'./new-images'+str(counter)+'.jpg')\n",
    "    counter += 1"
   ]
  },
  {
   "cell_type": "code",
   "execution_count": 16,
   "metadata": {},
   "outputs": [],
   "source": [
    "for file in os.listdir('./new-images/'):\n",
    "    shutil.copy('./new-images/'+file,'./temp-bike-images/'+file)"
   ]
  },
  {
   "cell_type": "code",
   "execution_count": 18,
   "metadata": {},
   "outputs": [],
   "source": [
    "counter = 1\n",
    "for i,file in enumerate(os.listdir('./temp-bike-images/')):\n",
    "    os.rename('./temp-bike-images/'+file,'./temp-bike-images/image'+str(counter)+'.jpg')\n",
    "    counter += 1"
   ]
  },
  {
   "cell_type": "code",
   "execution_count": 6,
   "metadata": {},
   "outputs": [],
   "source": [
    "# let's start with the Imports \n",
    "import cv2\n",
    "import numpy as np\n",
    "def resize(filePath,resize_width=900,resize_height=500):\n",
    "    image = cv2.imread(filePath)\n",
    "    try:\n",
    "        height, width,_ = image.shape\n",
    "        aspect_ratio = width/height\n",
    "        if height<70 or width<70 or aspect_ratio<1.3 or aspect_ratio>2.5:\n",
    "            print(aspect_ratio,width,height)\n",
    "            os.remove(filePath)\n",
    "        else:\n",
    "            resized = cv2.resize(image, (resize_width,resize_height), interpolation=cv2.INTER_AREA)\n",
    "            cv2.imwrite(filePath,resized)\n",
    "    except Exception as e:\n",
    "        os.remove(filePath)\n",
    "        print(e)\n",
    "    "
   ]
  },
  {
   "cell_type": "code",
   "execution_count": 7,
   "metadata": {},
   "outputs": [],
   "source": [
    "for i,file in enumerate(os.listdir('./new-images/')):\n",
    "    try:\n",
    "        resize('./new-images/'+file)\n",
    "    except Exception as e:\n",
    "        print(e)\n",
    "        break\n",
    "        pass"
   ]
  },
  {
   "cell_type": "code",
   "execution_count": 8,
   "metadata": {},
   "outputs": [],
   "source": [
    "for i,file in enumerate(os.listdir('./temp-bike-images/')):\n",
    "    try:\n",
    "        resize('./temp-bike-images/'+file)\n",
    "    except Exception as e:\n",
    "        print(e)\n",
    "        pass"
   ]
  },
  {
   "cell_type": "code",
   "execution_count": 21,
   "metadata": {},
   "outputs": [
    {
     "name": "stdout",
     "output_type": "stream",
     "text": [
      "Total 122 Images Downloaded Out of 123\n"
     ]
    }
   ],
   "source": [
    "from turtle import width\n",
    "from bs4 import *\n",
    "import requests\n",
    "import os\n",
    " \n",
    "# DOWNLOAD ALL IMAGES FROM THAT URL\n",
    "def download_images(images, folder_name='./new-images'):\n",
    "   \n",
    "    # initial count is zero\n",
    "    count = 0\n",
    " \n",
    "    # print total images found in URL\n",
    "    # print(f\"Total {len(images)} Image Found!\")\n",
    " \n",
    "    # checking if images is not zero\n",
    "    if len(images) != 0:\n",
    "        for i, image in enumerate(images):\n",
    "            # From image tag ,Fetch image Source URL\n",
    " \n",
    "                        # 1.data-srcset\n",
    "                        # 2.data-src\n",
    "                        # 3.data-fallback-src\n",
    "                        # 4.src\n",
    " \n",
    "            # Here we will use exception handling\n",
    " \n",
    "            # first we will search for \"data-srcset\" in img tag\n",
    "            try:\n",
    "                # In image tag ,searching for \"data-srcset\"\n",
    "                image_link = image[\"data-srcset\"]\n",
    "                 \n",
    "            # then we will search for \"data-src\" in img\n",
    "            # tag and so on..\n",
    "            except Exception as e:\n",
    "                # print(e)\n",
    "                try:\n",
    "                    # In image tag ,searching for \"data-src\"\n",
    "                    image_link = image[\"data-src\"]\n",
    "                except:\n",
    "                    try:\n",
    "                        # In image tag ,searching for \"data-fallback-src\"\n",
    "                        image_link = image[\"data-fallback-src\"]\n",
    "                    except:\n",
    "                        try:\n",
    "                            # In image tag ,searching for \"src\"\n",
    "                            image_link = image[\"src\"]\n",
    " \n",
    "                        # if no Source URL found\n",
    "                        except Exception as e:\n",
    "                            pass\n",
    "                            # print(e)\n",
    " \n",
    "            # After getting Image Source URL\n",
    "            # We will try to get the content of image\n",
    "            try:\n",
    "                r = requests.get(image_link).content\n",
    "                try:\n",
    " \n",
    "                    # possibility of decode\n",
    "                    r = str(r, 'utf-8')\n",
    "                    image = cv2.imread(r)\n",
    "                    height, width,_ = image.shape\n",
    "                    \n",
    "                    if height<70 or width<70:\n",
    "                        pass\n",
    "                        raise Exception('image too small')\n",
    " \n",
    "                except UnicodeDecodeError:\n",
    " \n",
    "                    # After checking above condition, Image Download start\n",
    "                    # print(f\"{folder_name}/images{i+1}.jpg\")\n",
    "                    with open(f\"{folder_name}/images{i+1}.jpg\", \"wb+\") as f:\n",
    "                        f.write(r)\n",
    " \n",
    "                    # counting number of image downloaded\n",
    "                    count += 1\n",
    "            except Exception as e:\n",
    "                pass\n",
    "                # print(e)\n",
    " \n",
    "        # There might be possible, that all\n",
    "        # images not download\n",
    "        # if all images download\n",
    "        if count == len(images):\n",
    "            print(\"All Images Downloaded!\")\n",
    "             \n",
    "        # if all images not download\n",
    "        else:\n",
    "            print(f\"Total {count} Images Downloaded Out of {len(images)}\")\n",
    " \n",
    "# MAIN FUNCTION START\n",
    "def main(url):\n",
    "   \n",
    "    # content of URL\n",
    "    r = requests.get(url)\n",
    " \n",
    "    # Parse HTML Code\n",
    "    soup = BeautifulSoup(r.text, 'html.parser')\n",
    " \n",
    "    # find all images in URL\n",
    "    images = soup.findAll('img')\n",
    " \n",
    "    # Call folder create function\n",
    "    download_images(images)\n",
    " \n",
    " \n",
    "# take url\n",
    "# url = input(\"Enter URL:- \")\n",
    "url = r'https://unsplash.com/s/photos/bikes'\n",
    " \n",
    "# CALL MAIN FUNCTION\n",
    "main(url)"
   ]
  },
  {
   "cell_type": "code",
   "execution_count": 2,
   "metadata": {},
   "outputs": [
    {
     "name": "stdout",
     "output_type": "stream",
     "text": [
      "Collecting requests\n",
      "  Using cached requests-2.28.1-py3-none-any.whl (62 kB)\n",
      "Collecting certifi>=2017.4.17\n",
      "  Using cached certifi-2022.9.24-py3-none-any.whl (161 kB)\n",
      "Requirement already satisfied: charset-normalizer<3,>=2 in c:\\python310\\lib\\site-packages (from requests) (2.1.1)\n",
      "Requirement already satisfied: urllib3<1.27,>=1.21.1 in c:\\python310\\lib\\site-packages (from requests) (1.26.12)\n",
      "Requirement already satisfied: idna<4,>=2.5 in c:\\python310\\lib\\site-packages (from requests) (3.4)\n",
      "Installing collected packages: certifi, requests\n",
      "Successfully installed certifi-2022.9.24 requests-2.28.1\n"
     ]
    }
   ],
   "source": [
    "!pip install requests"
   ]
  },
  {
   "cell_type": "code",
   "execution_count": null,
   "metadata": {},
   "outputs": [],
   "source": []
  }
 ],
 "metadata": {
  "kernelspec": {
   "display_name": "Python 3.10.7 64-bit",
   "language": "python",
   "name": "python3"
  },
  "language_info": {
   "codemirror_mode": {
    "name": "ipython",
    "version": 3
   },
   "file_extension": ".py",
   "mimetype": "text/x-python",
   "name": "python",
   "nbconvert_exporter": "python",
   "pygments_lexer": "ipython3",
   "version": "3.10.7"
  },
  "orig_nbformat": 4,
  "vscode": {
   "interpreter": {
    "hash": "369f2c481f4da34e4445cda3fffd2e751bd1c4d706f27375911949ba6bb62e1c"
   }
  }
 },
 "nbformat": 4,
 "nbformat_minor": 2
}
